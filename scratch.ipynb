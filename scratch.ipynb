{
 "cells": [
  {
   "cell_type": "code",
   "execution_count": 1,
   "metadata": {},
   "outputs": [],
   "source": [
    "%load_ext autoreload\n",
    "%autoreload 2"
   ]
  },
  {
   "cell_type": "code",
   "execution_count": 3,
   "metadata": {},
   "outputs": [],
   "source": [
    "from ttb import STREAMSDataset\n",
    "\n",
    "ds = STREAMSDataset(\"mnist\", T=50, num_peaks=5, inference_window=10, duration=5)"
   ]
  },
  {
   "cell_type": "code",
   "execution_count": 4,
   "metadata": {},
   "outputs": [],
   "source": [
    "benchmark = ds.get_benchmark()"
   ]
  },
  {
   "cell_type": "code",
   "execution_count": 5,
   "metadata": {},
   "outputs": [
    {
     "name": "stdout",
     "output_type": "stream",
     "text": [
      "Start of task  0\n",
      "Classes in this task: [5]\n",
      "Task 0\n",
      "This task contains 1 training examples\n",
      "Train\n",
      "(<PIL.Image.Image image mode=L size=28x28 at 0x7F57E72F90A0>, 5, 0)\n",
      "This task contains 10 test examples\n",
      "Test\n",
      "(<PIL.Image.Image image mode=L size=28x28 at 0x7F57DD2AA250>, 0, 0)\n",
      "(<PIL.Image.Image image mode=L size=28x28 at 0x7F57E417BDC0>, 4, 0)\n",
      "(<PIL.Image.Image image mode=L size=28x28 at 0x7F57E72F9400>, 1, 0)\n",
      "(<PIL.Image.Image image mode=L size=28x28 at 0x7F57E7304A90>, 9, 0)\n",
      "(<PIL.Image.Image image mode=L size=28x28 at 0x7F57E7304880>, 2, 0)\n",
      "(<PIL.Image.Image image mode=L size=28x28 at 0x7F57E7304910>, 1, 0)\n",
      "(<PIL.Image.Image image mode=L size=28x28 at 0x7F57E72F90A0>, 3, 0)\n",
      "(<PIL.Image.Image image mode=L size=28x28 at 0x7F57E417BDF0>, 1, 0)\n",
      "(<PIL.Image.Image image mode=L size=28x28 at 0x7F57E72F9250>, 4, 0)\n",
      "(<PIL.Image.Image image mode=L size=28x28 at 0x7F57DD2AA160>, 3, 0)\n"
     ]
    }
   ],
   "source": [
    "# recovering the train and test streams\n",
    "train_stream = benchmark.train_stream\n",
    "test_stream = benchmark.test_stream\n",
    "\n",
    "# iterating over the train stream\n",
    "for experience in train_stream:\n",
    "  print(\"Start of task \", experience.task_label)\n",
    "  print('Classes in this task:', experience.classes_in_this_experience)\n",
    "\n",
    "  # The current Pytorch training set can be easily recovered through the\n",
    "  # experience\n",
    "  current_training_set = experience.dataset\n",
    "  # ...as well as the task_label\n",
    "  print('Task {}'.format(experience.task_label))\n",
    "  print('This task contains', len(current_training_set), 'training examples')\n",
    "  \n",
    "  print(\"Train\")\n",
    "  for idx, elem in enumerate(current_training_set):\n",
    "    print(elem)\n",
    "    if idx > 10:\n",
    "      break\n",
    "\n",
    "  # we can recover the corresponding test experience in the test stream\n",
    "  current_test_set = test_stream[experience.current_experience].dataset\n",
    "  print('This task contains', len(current_test_set), 'test examples')\n",
    "  \n",
    "  print(\"Test\")\n",
    "  for idx, elem in enumerate(current_test_set):\n",
    "    print(elem)\n",
    "    if idx > 10:\n",
    "      break"
   ]
  },
  {
   "cell_type": "code",
   "execution_count": 7,
   "metadata": {},
   "outputs": [
    {
     "data": {
      "image/png": "[encoded data removed]",
      "text/plain": [
       "<Figure size 720x288 with 1 Axes>"
      ]
     },
     "metadata": {
      "needs_background": "light"
     },
     "output_type": "display_data"
    }
   ],
   "source": [
    "ds.visualize(domain_type_index=0, domain_value_indices=[5, 4])"
   ]
  },
  {
   "cell_type": "code",
   "execution_count": 71,
   "metadata": {},
   "outputs": [
    {
     "data": {
      "text/plain": [
       "1"
      ]
     },
     "execution_count": 71,
     "metadata": {},
     "output_type": "execute_result"
    }
   ],
   "source": [
    "len(ds.signals[0])"
   ]
  },
  {
   "cell_type": "code",
   "execution_count": 75,
   "metadata": {},
   "outputs": [
    {
     "data": {
      "text/plain": [
       "10"
      ]
     },
     "execution_count": 75,
     "metadata": {},
     "output_type": "execute_result"
    }
   ],
   "source": [
    "len(ds.signals[0][0])"
   ]
  },
  {
   "cell_type": "code",
   "execution_count": null,
   "metadata": {},
   "outputs": [],
   "source": []
  }
 ],
 "metadata": {
  "interpreter": {
   "hash": "125e6e438f6bf169001eca1db6f9b76bb8629196a71bc9c758d46cb6243b56f5"
  },
  "kernelspec": {
   "display_name": "Python 3 (ipykernel)",
   "language": "python",
   "name": "python3"
  },
  "language_info": {
   "codemirror_mode": {
    "name": "ipython",
    "version": 3
   },
   "file_extension": ".py",
   "mimetype": "text/x-python",
   "name": "python",
   "nbconvert_exporter": "python",
   "pygments_lexer": "ipython3",
   "version": "3.9.7"
  }
 },
 "nbformat": 4,
 "nbformat_minor": 2
}
